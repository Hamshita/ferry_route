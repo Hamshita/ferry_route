{
 "cells": [
  {
   "cell_type": "code",
   "execution_count": 1,
   "id": "bc2275cd-9fe9-49ca-8a54-f287874fa55d",
   "metadata": {},
   "outputs": [],
   "source": [
    "import os\n",
    "import pandas as pd"
   ]
  },
  {
   "cell_type": "code",
   "execution_count": 2,
   "id": "cda2c1ab-3c33-4ec0-a046-720480c6e0b9",
   "metadata": {},
   "outputs": [],
   "source": [
    "df = pd.read_csv(\"../data_given/seeds.csv\")"
   ]
  },
  {
   "cell_type": "code",
   "execution_count": 3,
   "id": "76764878-02e8-4cc4-9222-795e506cdf64",
   "metadata": {},
   "outputs": [
    {
     "data": {
      "text/plain": [
       "Index(['Area', 'Perimeter', 'Compactness', 'Kernel.Length', 'Kernel.Width',\n",
       "       'Asymmetry.Coeff', 'Kernel.Groove', 'Type'],\n",
       "      dtype='object')"
      ]
     },
     "execution_count": 3,
     "metadata": {},
     "output_type": "execute_result"
    }
   ],
   "source": [
    "df.columns"
   ]
  },
  {
   "cell_type": "code",
   "execution_count": 5,
   "id": "ab49e3fc-a746-4c40-b8a1-2f8c3b0b7530",
   "metadata": {},
   "outputs": [
    {
     "data": {
      "text/html": [
       "<div>\n",
       "<style scoped>\n",
       "    .dataframe tbody tr th:only-of-type {\n",
       "        vertical-align: middle;\n",
       "    }\n",
       "\n",
       "    .dataframe tbody tr th {\n",
       "        vertical-align: top;\n",
       "    }\n",
       "\n",
       "    .dataframe thead th {\n",
       "        text-align: right;\n",
       "    }\n",
       "</style>\n",
       "<table border=\"1\" class=\"dataframe\">\n",
       "  <thead>\n",
       "    <tr style=\"text-align: right;\">\n",
       "      <th></th>\n",
       "      <th>count</th>\n",
       "      <th>mean</th>\n",
       "      <th>std</th>\n",
       "      <th>min</th>\n",
       "      <th>25%</th>\n",
       "      <th>50%</th>\n",
       "      <th>75%</th>\n",
       "      <th>max</th>\n",
       "    </tr>\n",
       "  </thead>\n",
       "  <tbody>\n",
       "    <tr>\n",
       "      <th>Area</th>\n",
       "      <td>199.0</td>\n",
       "      <td>14.918744</td>\n",
       "      <td>2.919976</td>\n",
       "      <td>10.5900</td>\n",
       "      <td>12.3300</td>\n",
       "      <td>14.4300</td>\n",
       "      <td>17.4550</td>\n",
       "      <td>21.1800</td>\n",
       "    </tr>\n",
       "    <tr>\n",
       "      <th>Perimeter</th>\n",
       "      <td>199.0</td>\n",
       "      <td>14.595829</td>\n",
       "      <td>1.310445</td>\n",
       "      <td>12.4100</td>\n",
       "      <td>13.4700</td>\n",
       "      <td>14.3700</td>\n",
       "      <td>15.8050</td>\n",
       "      <td>17.2500</td>\n",
       "    </tr>\n",
       "    <tr>\n",
       "      <th>Compactness</th>\n",
       "      <td>199.0</td>\n",
       "      <td>0.870811</td>\n",
       "      <td>0.023320</td>\n",
       "      <td>0.8081</td>\n",
       "      <td>0.8571</td>\n",
       "      <td>0.8734</td>\n",
       "      <td>0.8868</td>\n",
       "      <td>0.9183</td>\n",
       "    </tr>\n",
       "    <tr>\n",
       "      <th>Kernel.Length</th>\n",
       "      <td>199.0</td>\n",
       "      <td>5.643151</td>\n",
       "      <td>0.443593</td>\n",
       "      <td>4.8990</td>\n",
       "      <td>5.2670</td>\n",
       "      <td>5.5410</td>\n",
       "      <td>6.0020</td>\n",
       "      <td>6.6750</td>\n",
       "    </tr>\n",
       "    <tr>\n",
       "      <th>Kernel.Width</th>\n",
       "      <td>199.0</td>\n",
       "      <td>3.265533</td>\n",
       "      <td>0.378322</td>\n",
       "      <td>2.6300</td>\n",
       "      <td>2.9545</td>\n",
       "      <td>3.2450</td>\n",
       "      <td>3.5645</td>\n",
       "      <td>4.0330</td>\n",
       "    </tr>\n",
       "    <tr>\n",
       "      <th>Asymmetry.Coeff</th>\n",
       "      <td>199.0</td>\n",
       "      <td>3.699217</td>\n",
       "      <td>1.471102</td>\n",
       "      <td>0.7651</td>\n",
       "      <td>2.5700</td>\n",
       "      <td>3.6310</td>\n",
       "      <td>4.7990</td>\n",
       "      <td>8.3150</td>\n",
       "    </tr>\n",
       "    <tr>\n",
       "      <th>Kernel.Groove</th>\n",
       "      <td>199.0</td>\n",
       "      <td>5.420653</td>\n",
       "      <td>0.492718</td>\n",
       "      <td>4.5190</td>\n",
       "      <td>5.0460</td>\n",
       "      <td>5.2280</td>\n",
       "      <td>5.8790</td>\n",
       "      <td>6.5500</td>\n",
       "    </tr>\n",
       "    <tr>\n",
       "      <th>Type</th>\n",
       "      <td>199.0</td>\n",
       "      <td>1.994975</td>\n",
       "      <td>0.813382</td>\n",
       "      <td>1.0000</td>\n",
       "      <td>1.0000</td>\n",
       "      <td>2.0000</td>\n",
       "      <td>3.0000</td>\n",
       "      <td>3.0000</td>\n",
       "    </tr>\n",
       "  </tbody>\n",
       "</table>\n",
       "</div>"
      ],
      "text/plain": [
       "                 count       mean       std      min      25%      50%  \\\n",
       "Area             199.0  14.918744  2.919976  10.5900  12.3300  14.4300   \n",
       "Perimeter        199.0  14.595829  1.310445  12.4100  13.4700  14.3700   \n",
       "Compactness      199.0   0.870811  0.023320   0.8081   0.8571   0.8734   \n",
       "Kernel.Length    199.0   5.643151  0.443593   4.8990   5.2670   5.5410   \n",
       "Kernel.Width     199.0   3.265533  0.378322   2.6300   2.9545   3.2450   \n",
       "Asymmetry.Coeff  199.0   3.699217  1.471102   0.7651   2.5700   3.6310   \n",
       "Kernel.Groove    199.0   5.420653  0.492718   4.5190   5.0460   5.2280   \n",
       "Type             199.0   1.994975  0.813382   1.0000   1.0000   2.0000   \n",
       "\n",
       "                     75%      max  \n",
       "Area             17.4550  21.1800  \n",
       "Perimeter        15.8050  17.2500  \n",
       "Compactness       0.8868   0.9183  \n",
       "Kernel.Length     6.0020   6.6750  \n",
       "Kernel.Width      3.5645   4.0330  \n",
       "Asymmetry.Coeff   4.7990   8.3150  \n",
       "Kernel.Groove     5.8790   6.5500  \n",
       "Type              3.0000   3.0000  "
      ]
     },
     "execution_count": 5,
     "metadata": {},
     "output_type": "execute_result"
    }
   ],
   "source": [
    "df.describe().T"
   ]
  },
  {
   "cell_type": "code",
   "execution_count": 6,
   "id": "f711c1dd-96bd-4657-a249-b5d82fa0569a",
   "metadata": {},
   "outputs": [],
   "source": [
    "overview = df.describe()"
   ]
  },
  {
   "cell_type": "code",
   "execution_count": 7,
   "id": "3b376281-6cd2-4ef2-b8d7-ec1beb7f53d0",
   "metadata": {},
   "outputs": [],
   "source": [
    "overview.loc[[\"min\", \"max\"]].to_json(\"schema_in.json\")"
   ]
  },
  {
   "cell_type": "code",
   "execution_count": 8,
   "id": "cd62e8ba-0963-49cc-a7ed-1f296b4dfeaf",
   "metadata": {},
   "outputs": [],
   "source": [
    "class NotInRange(Exception):\n",
    "    def __init__(self, message=\"value not in range\"):\n",
    "#         self.input_ = input_\n",
    "        self.message = message\n",
    "        super().__init__(self.message)"
   ]
  },
  {
   "cell_type": "code",
   "execution_count": 9,
   "id": "38b263f9-c96f-4fe3-b22c-892f7093ad2f",
   "metadata": {},
   "outputs": [
    {
     "ename": "NotInRange",
     "evalue": "value not in range",
     "output_type": "error",
     "traceback": [
      "\u001b[1;31m---------------------------------------------------------------------------\u001b[0m",
      "\u001b[1;31mNotInRange\u001b[0m                                Traceback (most recent call last)",
      "Input \u001b[1;32mIn [9]\u001b[0m, in \u001b[0;36m<module>\u001b[1;34m\u001b[0m\n\u001b[1;32m----> 1\u001b[0m \u001b[38;5;28;01mraise\u001b[39;00m NotInRange\n",
      "\u001b[1;31mNotInRange\u001b[0m: value not in range"
     ]
    }
   ],
   "source": [
    "raise NotInRange"
   ]
  },
  {
   "cell_type": "code",
   "execution_count": null,
   "id": "408feca4-e7ba-404f-a369-73b60ef9e33a",
   "metadata": {},
   "outputs": [],
   "source": []
  }
 ],
 "metadata": {
  "kernelspec": {
   "display_name": "Python 3 (ipykernel)",
   "language": "python",
   "name": "python3"
  },
  "language_info": {
   "codemirror_mode": {
    "name": "ipython",
    "version": 3
   },
   "file_extension": ".py",
   "mimetype": "text/x-python",
   "name": "python",
   "nbconvert_exporter": "python",
   "pygments_lexer": "ipython3",
   "version": "3.9.7"
  }
 },
 "nbformat": 4,
 "nbformat_minor": 5
}
